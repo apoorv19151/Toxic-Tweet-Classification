{
  "cells": [
    {
      "cell_type": "markdown",
      "metadata": {
        "id": "Ir0sJFAMcysh"
      },
      "source": [
        "## Toxic Tweet Classification using LSTM (Long-Short Term Memory) with GloVe & Word2Vec Embeddings"
      ]
    },
    {
      "cell_type": "code",
      "execution_count": 1,
      "metadata": {
        "colab": {
          "base_uri": "https://localhost:8080/"
        },
        "id": "iP6abqVlWJCm",
        "outputId": "64c99973-a2d0-4d5e-ca46-e1821e57e187"
      },
      "outputs": [
        {
          "output_type": "stream",
          "name": "stdout",
          "text": [
            "Mounted at /content/gdrive\n"
          ]
        }
      ],
      "source": [
        "from google.colab import drive\n",
        "drive.mount('/content/gdrive')"
      ]
    },
    {
      "cell_type": "markdown",
      "metadata": {
        "id": "F23wqmkMdHQJ"
      },
      "source": [
        "Importing required libraries."
      ]
    },
    {
      "cell_type": "code",
      "execution_count": 2,
      "metadata": {
        "id": "2pSu8W7XWdwe"
      },
      "outputs": [],
      "source": [
        "import pandas as pd\n",
        "import numpy as np\n",
        "import matplotlib.pyplot as plt\n",
        "import seaborn as sns\n",
        "\n",
        "# PyTorch Libraries for implementing LSTM\n",
        "import torch\n",
        "import torch.nn as nn\n",
        "import torch.nn.functional as F\n",
        "from torch.utils.data import TensorDataset, DataLoader, RandomSampler, SequentialSampler\n",
        "\n",
        "# Tokenization & word embeddings library\n",
        "from collections import Counter\n",
        "from gensim.models import Word2Vec"
      ]
    },
    {
      "cell_type": "markdown",
      "metadata": {
        "id": "JlJhgTY2dVWZ"
      },
      "source": [
        "Importing tweets that were pre-processed earlier using various python libraries."
      ]
    },
    {
      "cell_type": "code",
      "execution_count": 3,
      "metadata": {
        "colab": {
          "base_uri": "https://localhost:8080/",
          "height": 694
        },
        "id": "KBAmCbZfWVUL",
        "outputId": "5d2b6db6-535c-4405-c1a6-ee761cb3468f"
      },
      "outputs": [
        {
          "output_type": "stream",
          "name": "stdout",
          "text": [
            "Number of samples in data = 44645\n"
          ]
        },
        {
          "output_type": "execute_result",
          "data": {
            "text/plain": [
              "                                          Basic clean          sentiment  \\\n",
              "0             words katandandre food crapilicious mkr  not_cyberbullying   \n",
              "1   aussietv white mkr theblock today sunrise stud...  not_cyberbullying   \n",
              "2                    classy whore red velvet cupcakes  not_cyberbullying   \n",
              "3   meh p thanks heads concerned another angry dud...  not_cyberbullying   \n",
              "4   isis account pretending kurdish account like i...  not_cyberbullying   \n",
              "5   yes test god good bad indifferent weird whatev...  not_cyberbullying   \n",
              "6   itu sekolah ya bukan tempat bully ga jauh kaya...  not_cyberbullying   \n",
              "7                 karma hope bites kat butt nasty mkr  not_cyberbullying   \n",
              "8                            everything mostly priest  not_cyberbullying   \n",
              "9             rebecca black drops school due bullying  not_cyberbullying   \n",
              "11                                   bully flushes kd  not_cyberbullying   \n",
              "12                                         ughhhh mkr  not_cyberbullying   \n",
              "13  rt turkish state killed 241 children last 11 y...  not_cyberbullying   \n",
              "14  love best response hotcakes managed film nonco...  not_cyberbullying   \n",
              "15  parem de fazer bullying comigo uhahuah bando d...  not_cyberbullying   \n",
              "16           tadinhu de mim sofrendo bulling viu mimi  not_cyberbullying   \n",
              "17         twitter basically angry letters generation  not_cyberbullying   \n",
              "18  best pick line hi cute love people call james ...  not_cyberbullying   \n",
              "19  gotta walk classss officially hate stupid bus ...  not_cyberbullying   \n",
              "20          know saudis chased girls burning building  not_cyberbullying   \n",
              "\n",
              "    tweet_length  \n",
              "0              5  \n",
              "1             10  \n",
              "2              5  \n",
              "3              9  \n",
              "4              8  \n",
              "5             11  \n",
              "6             10  \n",
              "7              7  \n",
              "8              3  \n",
              "9              6  \n",
              "11             3  \n",
              "12             2  \n",
              "13            10  \n",
              "14            10  \n",
              "15             9  \n",
              "16             7  \n",
              "17             5  \n",
              "18            11  \n",
              "19             8  \n",
              "20             6  "
            ],
            "text/html": [
              "\n",
              "  <div id=\"df-613690d8-7a24-4d9a-b7b1-f32e14e60e18\">\n",
              "    <div class=\"colab-df-container\">\n",
              "      <div>\n",
              "<style scoped>\n",
              "    .dataframe tbody tr th:only-of-type {\n",
              "        vertical-align: middle;\n",
              "    }\n",
              "\n",
              "    .dataframe tbody tr th {\n",
              "        vertical-align: top;\n",
              "    }\n",
              "\n",
              "    .dataframe thead th {\n",
              "        text-align: right;\n",
              "    }\n",
              "</style>\n",
              "<table border=\"1\" class=\"dataframe\">\n",
              "  <thead>\n",
              "    <tr style=\"text-align: right;\">\n",
              "      <th></th>\n",
              "      <th>Basic clean</th>\n",
              "      <th>sentiment</th>\n",
              "      <th>tweet_length</th>\n",
              "    </tr>\n",
              "  </thead>\n",
              "  <tbody>\n",
              "    <tr>\n",
              "      <th>0</th>\n",
              "      <td>words katandandre food crapilicious mkr</td>\n",
              "      <td>not_cyberbullying</td>\n",
              "      <td>5</td>\n",
              "    </tr>\n",
              "    <tr>\n",
              "      <th>1</th>\n",
              "      <td>aussietv white mkr theblock today sunrise stud...</td>\n",
              "      <td>not_cyberbullying</td>\n",
              "      <td>10</td>\n",
              "    </tr>\n",
              "    <tr>\n",
              "      <th>2</th>\n",
              "      <td>classy whore red velvet cupcakes</td>\n",
              "      <td>not_cyberbullying</td>\n",
              "      <td>5</td>\n",
              "    </tr>\n",
              "    <tr>\n",
              "      <th>3</th>\n",
              "      <td>meh p thanks heads concerned another angry dud...</td>\n",
              "      <td>not_cyberbullying</td>\n",
              "      <td>9</td>\n",
              "    </tr>\n",
              "    <tr>\n",
              "      <th>4</th>\n",
              "      <td>isis account pretending kurdish account like i...</td>\n",
              "      <td>not_cyberbullying</td>\n",
              "      <td>8</td>\n",
              "    </tr>\n",
              "    <tr>\n",
              "      <th>5</th>\n",
              "      <td>yes test god good bad indifferent weird whatev...</td>\n",
              "      <td>not_cyberbullying</td>\n",
              "      <td>11</td>\n",
              "    </tr>\n",
              "    <tr>\n",
              "      <th>6</th>\n",
              "      <td>itu sekolah ya bukan tempat bully ga jauh kaya...</td>\n",
              "      <td>not_cyberbullying</td>\n",
              "      <td>10</td>\n",
              "    </tr>\n",
              "    <tr>\n",
              "      <th>7</th>\n",
              "      <td>karma hope bites kat butt nasty mkr</td>\n",
              "      <td>not_cyberbullying</td>\n",
              "      <td>7</td>\n",
              "    </tr>\n",
              "    <tr>\n",
              "      <th>8</th>\n",
              "      <td>everything mostly priest</td>\n",
              "      <td>not_cyberbullying</td>\n",
              "      <td>3</td>\n",
              "    </tr>\n",
              "    <tr>\n",
              "      <th>9</th>\n",
              "      <td>rebecca black drops school due bullying</td>\n",
              "      <td>not_cyberbullying</td>\n",
              "      <td>6</td>\n",
              "    </tr>\n",
              "    <tr>\n",
              "      <th>11</th>\n",
              "      <td>bully flushes kd</td>\n",
              "      <td>not_cyberbullying</td>\n",
              "      <td>3</td>\n",
              "    </tr>\n",
              "    <tr>\n",
              "      <th>12</th>\n",
              "      <td>ughhhh mkr</td>\n",
              "      <td>not_cyberbullying</td>\n",
              "      <td>2</td>\n",
              "    </tr>\n",
              "    <tr>\n",
              "      <th>13</th>\n",
              "      <td>rt turkish state killed 241 children last 11 y...</td>\n",
              "      <td>not_cyberbullying</td>\n",
              "      <td>10</td>\n",
              "    </tr>\n",
              "    <tr>\n",
              "      <th>14</th>\n",
              "      <td>love best response hotcakes managed film nonco...</td>\n",
              "      <td>not_cyberbullying</td>\n",
              "      <td>10</td>\n",
              "    </tr>\n",
              "    <tr>\n",
              "      <th>15</th>\n",
              "      <td>parem de fazer bullying comigo uhahuah bando d...</td>\n",
              "      <td>not_cyberbullying</td>\n",
              "      <td>9</td>\n",
              "    </tr>\n",
              "    <tr>\n",
              "      <th>16</th>\n",
              "      <td>tadinhu de mim sofrendo bulling viu mimi</td>\n",
              "      <td>not_cyberbullying</td>\n",
              "      <td>7</td>\n",
              "    </tr>\n",
              "    <tr>\n",
              "      <th>17</th>\n",
              "      <td>twitter basically angry letters generation</td>\n",
              "      <td>not_cyberbullying</td>\n",
              "      <td>5</td>\n",
              "    </tr>\n",
              "    <tr>\n",
              "      <th>18</th>\n",
              "      <td>best pick line hi cute love people call james ...</td>\n",
              "      <td>not_cyberbullying</td>\n",
              "      <td>11</td>\n",
              "    </tr>\n",
              "    <tr>\n",
              "      <th>19</th>\n",
              "      <td>gotta walk classss officially hate stupid bus ...</td>\n",
              "      <td>not_cyberbullying</td>\n",
              "      <td>8</td>\n",
              "    </tr>\n",
              "    <tr>\n",
              "      <th>20</th>\n",
              "      <td>know saudis chased girls burning building</td>\n",
              "      <td>not_cyberbullying</td>\n",
              "      <td>6</td>\n",
              "    </tr>\n",
              "  </tbody>\n",
              "</table>\n",
              "</div>\n",
              "      <button class=\"colab-df-convert\" onclick=\"convertToInteractive('df-613690d8-7a24-4d9a-b7b1-f32e14e60e18')\"\n",
              "              title=\"Convert this dataframe to an interactive table.\"\n",
              "              style=\"display:none;\">\n",
              "        \n",
              "  <svg xmlns=\"http://www.w3.org/2000/svg\" height=\"24px\"viewBox=\"0 0 24 24\"\n",
              "       width=\"24px\">\n",
              "    <path d=\"M0 0h24v24H0V0z\" fill=\"none\"/>\n",
              "    <path d=\"M18.56 5.44l.94 2.06.94-2.06 2.06-.94-2.06-.94-.94-2.06-.94 2.06-2.06.94zm-11 1L8.5 8.5l.94-2.06 2.06-.94-2.06-.94L8.5 2.5l-.94 2.06-2.06.94zm10 10l.94 2.06.94-2.06 2.06-.94-2.06-.94-.94-2.06-.94 2.06-2.06.94z\"/><path d=\"M17.41 7.96l-1.37-1.37c-.4-.4-.92-.59-1.43-.59-.52 0-1.04.2-1.43.59L10.3 9.45l-7.72 7.72c-.78.78-.78 2.05 0 2.83L4 21.41c.39.39.9.59 1.41.59.51 0 1.02-.2 1.41-.59l7.78-7.78 2.81-2.81c.8-.78.8-2.07 0-2.86zM5.41 20L4 18.59l7.72-7.72 1.47 1.35L5.41 20z\"/>\n",
              "  </svg>\n",
              "      </button>\n",
              "      \n",
              "  <style>\n",
              "    .colab-df-container {\n",
              "      display:flex;\n",
              "      flex-wrap:wrap;\n",
              "      gap: 12px;\n",
              "    }\n",
              "\n",
              "    .colab-df-convert {\n",
              "      background-color: #E8F0FE;\n",
              "      border: none;\n",
              "      border-radius: 50%;\n",
              "      cursor: pointer;\n",
              "      display: none;\n",
              "      fill: #1967D2;\n",
              "      height: 32px;\n",
              "      padding: 0 0 0 0;\n",
              "      width: 32px;\n",
              "    }\n",
              "\n",
              "    .colab-df-convert:hover {\n",
              "      background-color: #E2EBFA;\n",
              "      box-shadow: 0px 1px 2px rgba(60, 64, 67, 0.3), 0px 1px 3px 1px rgba(60, 64, 67, 0.15);\n",
              "      fill: #174EA6;\n",
              "    }\n",
              "\n",
              "    [theme=dark] .colab-df-convert {\n",
              "      background-color: #3B4455;\n",
              "      fill: #D2E3FC;\n",
              "    }\n",
              "\n",
              "    [theme=dark] .colab-df-convert:hover {\n",
              "      background-color: #434B5C;\n",
              "      box-shadow: 0px 1px 3px 1px rgba(0, 0, 0, 0.15);\n",
              "      filter: drop-shadow(0px 1px 2px rgba(0, 0, 0, 0.3));\n",
              "      fill: #FFFFFF;\n",
              "    }\n",
              "  </style>\n",
              "\n",
              "      <script>\n",
              "        const buttonEl =\n",
              "          document.querySelector('#df-613690d8-7a24-4d9a-b7b1-f32e14e60e18 button.colab-df-convert');\n",
              "        buttonEl.style.display =\n",
              "          google.colab.kernel.accessAllowed ? 'block' : 'none';\n",
              "\n",
              "        async function convertToInteractive(key) {\n",
              "          const element = document.querySelector('#df-613690d8-7a24-4d9a-b7b1-f32e14e60e18');\n",
              "          const dataTable =\n",
              "            await google.colab.kernel.invokeFunction('convertToInteractive',\n",
              "                                                     [key], {});\n",
              "          if (!dataTable) return;\n",
              "\n",
              "          const docLinkHtml = 'Like what you see? Visit the ' +\n",
              "            '<a target=\"_blank\" href=https://colab.research.google.com/notebooks/data_table.ipynb>data table notebook</a>'\n",
              "            + ' to learn more about interactive tables.';\n",
              "          element.innerHTML = '';\n",
              "          dataTable['output_type'] = 'display_data';\n",
              "          await google.colab.output.renderOutput(dataTable, element);\n",
              "          const docLink = document.createElement('div');\n",
              "          docLink.innerHTML = docLinkHtml;\n",
              "          element.appendChild(docLink);\n",
              "        }\n",
              "      </script>\n",
              "    </div>\n",
              "  </div>\n",
              "  "
            ]
          },
          "metadata": {},
          "execution_count": 3
        }
      ],
      "source": [
        "data = pd.read_csv('/content/gdrive/MyDrive/Colab Notebooks/processed-tweets.csv', index_col=0)\n",
        "data = data[data['Basic clean'].notna()]\n",
        "print(\"Number of samples in data = \"+str(len(data)))\n",
        "data.head(20)"
      ]
    },
    {
      "cell_type": "markdown",
      "metadata": {
        "id": "aisqFcnfeNiX"
      },
      "source": [
        "Assigning each class an integer value in the sentiment column and storing the sentiments in an array."
      ]
    },
    {
      "cell_type": "code",
      "execution_count": 4,
      "metadata": {
        "id": "OtQjqKjQlwSv"
      },
      "outputs": [],
      "source": [
        "sentiments = [\"religion\", \"age\", \"ethnicity\", \"gender\", \"not bullying\", \"other_cyberbullying\"]\n",
        "data['sentiment'] = data['sentiment'].replace({'religion':0, 'age':1, 'ethnicity':2, 'gender':3, 'not_cyberbullying':4, 'other_cyberbullying':5})\n",
        "X = data['Basic clean']\n",
        "Y = data['sentiment']"
      ]
    },
    {
      "cell_type": "markdown",
      "metadata": {
        "id": "z1fqVxbG3-yT"
      },
      "source": [
        "Defining a function to tokenize the column containing texts to a particular length."
      ]
    },
    {
      "cell_type": "code",
      "execution_count": 5,
      "metadata": {
        "id": "YmKsB7rf3vhm"
      },
      "outputs": [],
      "source": [
        "def Tokenize(column, seq_len):\n",
        "    # Creating a vocabulary of words from column\n",
        "    corpus = [word for text in column for word in text.split()]  # List that contains all the words in the tweets\n",
        "    count_words = Counter(corpus)  # Counter object stores the words as dictionary keys and their counts as values\n",
        "    sorted_words = count_words.most_common()  # List which contains tuples and each tuple has (word, count) and they are sorted according to count values\n",
        "    vocab_to_int = {word:i+1 for i, (word,c) in enumerate(sorted_words)}  # Creates a dictionary with keys as words and values as an integer value \n",
        "\n",
        "    # Tokenize the column's text using the vocabulary dictionary created above\n",
        "    text_int = []\n",
        "    for text in column:\n",
        "        r = [vocab_to_int[word] for word in text.split()]\n",
        "        text_int.append(r)\n",
        "    \n",
        "    # Add padding to tokens, each tokenized text is padded so that they have a length = seq_len\n",
        "    text_tokens = np.zeros((len(text_int), seq_len), dtype = int)\n",
        "    for i, token in enumerate(text_int):\n",
        "        if len(token) <= seq_len:\n",
        "            zeros = list(np.zeros(seq_len - len(token)))\n",
        "            new_token = zeros + token\n",
        "        else:\n",
        "            new_token = token[: seq_len]\n",
        "        text_tokens[i, :] = np.array(new_token)\n",
        "\n",
        "    return vocab_to_int, text_tokens"
      ]
    },
    {
      "cell_type": "code",
      "execution_count": 6,
      "metadata": {
        "colab": {
          "base_uri": "https://localhost:8080/"
        },
        "id": "U2PTgs1g9Gtk",
        "outputId": "6db4d0c9-3463-4f02-f2d7-f3af9154f5e4"
      },
      "outputs": [
        {
          "output_type": "stream",
          "name": "stdout",
          "text": [
            "Total words in vocabulary = 45551\n",
            "[[    0     0     0 ...   612 19727    25]\n",
            " [    0     0     0 ... 11316 19730   221]\n",
            " [    0     0     0 ...   857  9589  6775]\n",
            " ...\n",
            " [    0     0     0 ...   471 45551     3]\n",
            " [    0     0     0 ...    39     4    62]\n",
            " [    0     0     0 ...     8    29   217]]\n"
          ]
        }
      ],
      "source": [
        "max_len = np.max(data['tweet_length'])\n",
        "vocabulary, tokenized_column = Tokenize(data['Basic clean'], max_len)\n",
        "print(\"Total words in vocabulary = \"+str(len(vocabulary)))\n",
        "print(tokenized_column)"
      ]
    },
    {
      "cell_type": "markdown",
      "metadata": {
        "id": "sMdsHjGW9zW_"
      },
      "source": [
        "Training word2vec embeddings."
      ]
    },
    {
      "cell_type": "code",
      "execution_count": 7,
      "metadata": {
        "colab": {
          "base_uri": "https://localhost:8080/"
        },
        "id": "HD_kf_u09odh",
        "outputId": "46240ca9-8f71-4b51-bab7-cd4ae79e6b04"
      },
      "outputs": [
        {
          "output_type": "stream",
          "name": "stdout",
          "text": [
            "Size of training data = 44645\n"
          ]
        }
      ],
      "source": [
        "word2vec_train_data = list(map(lambda x : x.split(), data['Basic clean']))\n",
        "embedding_dim = 200\n",
        "word2vec_model = Word2Vec(word2vec_train_data, size=embedding_dim)\n",
        "Vocab_size = len(vocabulary)+1\n",
        "print(\"Size of training data = \"+str(len(word2vec_train_data)))"
      ]
    },
    {
      "cell_type": "markdown",
      "metadata": {
        "id": "VaG_viLbKXNY"
      },
      "source": [
        "Creating an embedding matrix that will store embedding of each word in vocabulary. "
      ]
    },
    {
      "cell_type": "code",
      "execution_count": 8,
      "metadata": {
        "colab": {
          "base_uri": "https://localhost:8080/"
        },
        "id": "mg9EcepY_iWf",
        "outputId": "e2132864-1254-4ddb-c9a5-d76cf2e3761d"
      },
      "outputs": [
        {
          "output_type": "stream",
          "name": "stdout",
          "text": [
            "Embedding Matrix Shape =  (45552, 200)\n",
            "[[ 0.          0.          0.         ...  0.          0.\n",
            "   0.        ]\n",
            " [ 0.04941089 -0.78237581 -0.64432889 ...  0.55985522  0.14099446\n",
            "  -0.80407959]\n",
            " [-0.15484615 -0.47279742 -0.72149003 ... -0.25380567  0.24869244\n",
            "  -0.5147658 ]\n",
            " ...\n",
            " [ 0.          0.          0.         ...  0.          0.\n",
            "   0.        ]\n",
            " [ 0.          0.          0.         ...  0.          0.\n",
            "   0.        ]\n",
            " [ 0.          0.          0.         ...  0.          0.\n",
            "   0.        ]]\n"
          ]
        }
      ],
      "source": [
        "word2vec_embedding_matrix = np.zeros((Vocab_size, embedding_dim))  # Defining an embedding matrix for word2vec embeddings\n",
        "for word, token in vocabulary.items():  # Filling the embedding matrix with word2vec trained embeddings\n",
        "  if word2vec_model.wv.__contains__(word):\n",
        "    word2vec_embedding_matrix[token] = word2vec_model.wv.__getitem__(word)\n",
        "\n",
        "print(\"Embedding Matrix Shape = \", word2vec_embedding_matrix.shape)\n",
        "print(word2vec_embedding_matrix)"
      ]
    },
    {
      "cell_type": "markdown",
      "metadata": {
        "id": "KN77aHRJIkTF"
      },
      "source": [
        "Installing GloVe python library."
      ]
    },
    {
      "cell_type": "code",
      "execution_count": 9,
      "metadata": {
        "colab": {
          "base_uri": "https://localhost:8080/"
        },
        "id": "zU8-VSB0IiRZ",
        "outputId": "ce680adc-4474-4c8d-ea27-d5aeef451ac3"
      },
      "outputs": [
        {
          "output_type": "stream",
          "name": "stdout",
          "text": [
            "Looking in indexes: https://pypi.org/simple, https://us-python.pkg.dev/colab-wheels/public/simple/\n",
            "Collecting glove-python-binary\n",
            "  Downloading glove_python_binary-0.2.0-cp37-cp37m-manylinux1_x86_64.whl (948 kB)\n",
            "\u001b[K     |████████████████████████████████| 948 kB 6.7 MB/s \n",
            "\u001b[?25hRequirement already satisfied: scipy in /usr/local/lib/python3.7/dist-packages (from glove-python-binary) (1.7.3)\n",
            "Requirement already satisfied: numpy in /usr/local/lib/python3.7/dist-packages (from glove-python-binary) (1.21.6)\n",
            "Installing collected packages: glove-python-binary\n",
            "Successfully installed glove-python-binary-0.2.0\n"
          ]
        }
      ],
      "source": [
        "! pip install glove-python-binary"
      ]
    },
    {
      "cell_type": "markdown",
      "metadata": {
        "id": "8w75af3OK6IU"
      },
      "source": [
        "Training GloVe embeddings."
      ]
    },
    {
      "cell_type": "code",
      "execution_count": 10,
      "metadata": {
        "id": "5oDLVI3hIrbI"
      },
      "outputs": [],
      "source": [
        "tweet_text = []\n",
        "tweet_sentiment = []\n",
        "for key, value in data.iterrows():\n",
        "  tweet = value['Basic clean'].split()\n",
        "  tweet_text.append(tweet)\n",
        "  tweet_sentiment.append(value['sentiment'])"
      ]
    },
    {
      "cell_type": "code",
      "execution_count": 11,
      "metadata": {
        "colab": {
          "base_uri": "https://localhost:8080/"
        },
        "id": "llqQjkJvI1v_",
        "outputId": "ec95503b-2a3c-4dfe-95dc-25e0efbfd934"
      },
      "outputs": [
        {
          "output_type": "stream",
          "name": "stdout",
          "text": [
            "Performing 30 training epochs with 4 threads\n",
            "Epoch 0\n",
            "Epoch 1\n",
            "Epoch 2\n",
            "Epoch 3\n",
            "Epoch 4\n",
            "Epoch 5\n",
            "Epoch 6\n",
            "Epoch 7\n",
            "Epoch 8\n",
            "Epoch 9\n",
            "Epoch 10\n",
            "Epoch 11\n",
            "Epoch 12\n",
            "Epoch 13\n",
            "Epoch 14\n",
            "Epoch 15\n",
            "Epoch 16\n",
            "Epoch 17\n",
            "Epoch 18\n",
            "Epoch 19\n",
            "Epoch 20\n",
            "Epoch 21\n",
            "Epoch 22\n",
            "Epoch 23\n",
            "Epoch 24\n",
            "Epoch 25\n",
            "Epoch 26\n",
            "Epoch 27\n",
            "Epoch 28\n",
            "Epoch 29\n"
          ]
        }
      ],
      "source": [
        "from glove import Corpus, Glove\n",
        "\n",
        "corpus = Corpus()  # Creating a corpus object that will generate the co-occurence matrix\n",
        "corpus.fit(tweet_text, window = 10)  # Training the corpus to generate the co-occurence matrix that will be used by GloVe\n",
        "glove = Glove(no_components=200, learning_rate=0.05)  # Creating a glove object that will use the matrix created above to create embeddings\n",
        "glove.fit(corpus.matrix, epochs=30, no_threads=4, verbose=True)  # Training glove to create embeddings\n",
        "glove.add_dictionary(corpus.dictionary)  # Adding corpus dictionary to glove dictionary\n",
        "glove.save('glove.model')  # Saving the model"
      ]
    },
    {
      "cell_type": "markdown",
      "metadata": {
        "id": "tUsvZtJYLAvt"
      },
      "source": [
        "Creating an embedding matrix to store glove embeddings."
      ]
    },
    {
      "cell_type": "code",
      "execution_count": 12,
      "metadata": {
        "colab": {
          "base_uri": "https://localhost:8080/"
        },
        "id": "jfIq9jD3JKKb",
        "outputId": "43dfb0a9-64e0-4341-e8a5-6982f3ff2e22"
      },
      "outputs": [
        {
          "output_type": "stream",
          "name": "stdout",
          "text": [
            "Completed!\n",
            "Number of words present in GloVe embeddings = 45551\n"
          ]
        }
      ],
      "source": [
        "glove_embedding_matrix = np.random.random((len(vocabulary)+1, embedding_dim))\n",
        "count = 0\n",
        "for word, token in vocabulary.items():\n",
        "  embedding_vector = glove.word_vectors[glove.dictionary[word]]\n",
        "  if embedding_vector is not None:\n",
        "    count += 1\n",
        "    glove_embedding_matrix[token] = embedding_vector\n",
        "print(\"Completed!\")\n",
        "print(\"Number of words present in GloVe embeddings = \"+str(count))"
      ]
    },
    {
      "cell_type": "code",
      "execution_count": 13,
      "metadata": {
        "id": "Wv0QXZeRLRKq"
      },
      "outputs": [],
      "source": [
        "X = tokenized_column\n",
        "Y = data['sentiment'].values"
      ]
    },
    {
      "cell_type": "markdown",
      "metadata": {
        "id": "trRgVqHigYNr"
      },
      "source": [
        "Performing stratified train-test split, using 70% for training set, 10% for test set and 10% for validation set."
      ]
    },
    {
      "cell_type": "code",
      "execution_count": 14,
      "metadata": {
        "id": "4BCvbf8ibzBn"
      },
      "outputs": [],
      "source": [
        "from sklearn.model_selection import train_test_split\n",
        "X_train, X_test, y_train, y_test = train_test_split(X, Y, test_size=0.1, stratify=Y, random_state=42)  # train-test split\n",
        "X_train, X_valid, y_train, y_valid = train_test_split(X_train, y_train, test_size=0.1, stratify=y_train, random_state=42)  # train-val split "
      ]
    },
    {
      "cell_type": "markdown",
      "metadata": {
        "id": "Lw5odE99jfUf"
      },
      "source": [
        "Performing random oversampling on the training data."
      ]
    },
    {
      "cell_type": "code",
      "execution_count": 15,
      "metadata": {
        "id": "1G3vJPl8cw6B"
      },
      "outputs": [],
      "source": [
        "from imblearn.over_sampling import RandomOverSampler\n",
        "ros = RandomOverSampler()\n",
        "X_train_os, y_train_os = ros.fit_resample(np.array(X_train), np.array(y_train))  # Performing random oversampling"
      ]
    },
    {
      "cell_type": "markdown",
      "metadata": {
        "id": "fWALt6bnlL4O"
      },
      "source": [
        "After performing oversampling, here we can see that each class has equal number of samples."
      ]
    },
    {
      "cell_type": "code",
      "execution_count": 16,
      "metadata": {
        "colab": {
          "base_uri": "https://localhost:8080/"
        },
        "id": "-sBgxMnydIq2",
        "outputId": "27584d54-74bd-4417-ba83-6892afd695e4"
      },
      "outputs": [
        {
          "output_type": "execute_result",
          "data": {
            "text/plain": [
              "array([[   0, 6438],\n",
              "       [   1, 6438],\n",
              "       [   2, 6438],\n",
              "       [   3, 6438],\n",
              "       [   4, 6438],\n",
              "       [   5, 6438]])"
            ]
          },
          "metadata": {},
          "execution_count": 16
        }
      ],
      "source": [
        "(unique, counts) = np.unique(y_train_os, return_counts=True)\n",
        "np.asarray((unique, counts)).T"
      ]
    },
    {
      "cell_type": "markdown",
      "metadata": {
        "id": "umqKbtqLQnWT"
      },
      "source": [
        "Converting training data, validation data and test data into tensor data set."
      ]
    },
    {
      "cell_type": "code",
      "execution_count": 17,
      "metadata": {
        "id": "Qx9ixUs6hFqC"
      },
      "outputs": [],
      "source": [
        "train_data = TensorDataset(torch.from_numpy(X_train_os), torch.from_numpy(y_train_os))\n",
        "test_data = TensorDataset(torch.from_numpy(X_test), torch.from_numpy(y_test))\n",
        "valid_data = TensorDataset(torch.from_numpy(X_valid), torch.from_numpy(y_valid))"
      ]
    },
    {
      "cell_type": "markdown",
      "metadata": {
        "id": "9rZPKR-5Tb_S"
      },
      "source": [
        "Using DataLoader so that we can pass the samples in minibatches and shuffle the data at every epoch to reduce model overfitting."
      ]
    },
    {
      "cell_type": "code",
      "execution_count": 18,
      "metadata": {
        "id": "LN0rP1fLhoCF"
      },
      "outputs": [],
      "source": [
        "Batch_size = 32\n",
        "\n",
        "train_loader = DataLoader(train_data, shuffle=True, batch_size=Batch_size, drop_last=True) \n",
        "valid_loader = DataLoader(valid_data, shuffle=True, batch_size=Batch_size, drop_last=True)\n",
        "test_loader = DataLoader(test_data, shuffle=True, batch_size=Batch_size, drop_last=True)"
      ]
    },
    {
      "cell_type": "markdown",
      "metadata": {
        "id": "UkLqtZK-UnE_"
      },
      "source": [
        "Defining the hyperparameters of the LSTM model."
      ]
    },
    {
      "cell_type": "code",
      "execution_count": 19,
      "metadata": {
        "id": "7evN9m6xmtu_"
      },
      "outputs": [],
      "source": [
        "num_classes = 6  # We are dealing with a multiclass classification problem of 6 classes\n",
        "hidden_dim = 100  # Number of neurons of the internal state (internal neural network in the LSTM)\n",
        "lstm_layers = 1  # Number of stacked LSTM layers\n",
        "LR = 3e-4  # Learning rate\n",
        "dropout = 1  # LSTM Dropout\n",
        "bidirectional = True  # Boolean value to choose if to use a bidirectional LSTM or not\n",
        "epochs = 5  # Number of training epochs\n",
        "device = 'cuda' if torch.cuda.is_available() else 'cpu'"
      ]
    },
    {
      "cell_type": "markdown",
      "metadata": {
        "id": "U3BYZdCRiMKT"
      },
      "source": [
        "Defining a class for our neural network."
      ]
    },
    {
      "cell_type": "code",
      "execution_count": 20,
      "metadata": {
        "id": "GUdUMAwUm97j"
      },
      "outputs": [],
      "source": [
        "class BiLSTM_Sentiment_Classifier(nn.Module):\n",
        "\n",
        "    def __init__(self, vocab_size, embedding_dim, hidden_dim, num_classes, lstm_layers, bidirectional,batch_size, dropout):\n",
        "        super(BiLSTM_Sentiment_Classifier,self).__init__()\n",
        "        \n",
        "        self.lstm_layers = lstm_layers\n",
        "        self.num_directions = 2 if bidirectional else 1\n",
        "        self.hidden_dim = hidden_dim\n",
        "        self.num_classes = num_classes\n",
        "        self.batch_size = batch_size\n",
        "        self.embedding = nn.Embedding(vocab_size, embedding_dim)\n",
        "        self.lstm = nn.LSTM(embedding_dim,\n",
        "                            hidden_dim,\n",
        "                            num_layers=lstm_layers,\n",
        "                            dropout=dropout,\n",
        "                            bidirectional=bidirectional,\n",
        "                            batch_first=True)\n",
        "        self.fc = nn.Linear(hidden_dim*self.num_directions, num_classes)\n",
        "        self.softmax = nn.LogSoftmax(dim=1)\n",
        "\n",
        "    def forward(self, x, hidden):\n",
        "        self.batch_size = x.size(0)\n",
        "        embedded = self.embedding(x)  # Embedding layer\n",
        "        out, hidden = self.lstm(embedded, hidden)  # LSTM layers\n",
        "        out = out[:,-1,:]  # Extract only the hidden state from the last LSTM cell\n",
        "        out = self.fc(out)  # Fully connected layers\n",
        "        out = self.softmax(out)\n",
        "        return out, hidden\n",
        "\n",
        "    def init_hidden(self, batch_size):\n",
        "        # Initialization of the LSTM hidden and cell states\n",
        "        h0 = torch.zeros((self.lstm_layers*self.num_directions, batch_size, self.hidden_dim)).detach().to(device)\n",
        "        c0 = torch.zeros((self.lstm_layers*self.num_directions, batch_size, self.hidden_dim)).detach().to(device)\n",
        "        hidden = (h0, c0)\n",
        "        return hidden"
      ]
    },
    {
      "cell_type": "code",
      "execution_count": 21,
      "metadata": {
        "colab": {
          "base_uri": "https://localhost:8080/"
        },
        "id": "Z7Z7g0mdnNl_",
        "outputId": "82f42b53-72b5-42d7-9f7c-1ee49066a437"
      },
      "outputs": [
        {
          "output_type": "stream",
          "name": "stderr",
          "text": [
            "/usr/local/lib/python3.7/dist-packages/torch/nn/modules/rnn.py:65: UserWarning: dropout option adds dropout after all but last recurrent layer, so non-zero dropout expects num_layers greater than 1, but got dropout=1 and num_layers=1\n",
            "  \"num_layers={}\".format(dropout, num_layers))\n"
          ]
        },
        {
          "output_type": "stream",
          "name": "stdout",
          "text": [
            "BiLSTM_Sentiment_Classifier(\n",
            "  (embedding): Embedding(45552, 200)\n",
            "  (lstm): LSTM(200, 100, batch_first=True, dropout=1.0, bidirectional=True)\n",
            "  (fc): Linear(in_features=200, out_features=6, bias=True)\n",
            "  (softmax): LogSoftmax(dim=1)\n",
            ")\n"
          ]
        }
      ],
      "source": [
        "model = BiLSTM_Sentiment_Classifier(Vocab_size, embedding_dim, hidden_dim, num_classes, lstm_layers, bidirectional, Batch_size, dropout)  # Creating an object for the model\n",
        "model = model.to(device)\n",
        "model.embedding.weight.data.copy_(torch.from_numpy(glove_embedding_matrix))  # Initialize embedding with the previously defined embedding matrix\n",
        "model.embedding.weight.requires_grad=True  # Allowing our embedding matrix to be fined tuned to better adapt to our dataset and get higher accuracy\n",
        "print(model)"
      ]
    },
    {
      "cell_type": "code",
      "execution_count": 22,
      "metadata": {
        "id": "aiZfMcoSnuXR"
      },
      "outputs": [],
      "source": [
        "criterion = nn.NLLLoss()\n",
        "optimizer = torch.optim.AdamW(model.parameters(), lr=LR, weight_decay = 5e-6)"
      ]
    },
    {
      "cell_type": "code",
      "execution_count": 23,
      "metadata": {
        "colab": {
          "base_uri": "https://localhost:8080/"
        },
        "id": "Nhi3vTnRn9SD",
        "outputId": "34f47875-4cfd-4cc3-c5bf-ad4ae60dbdf5"
      },
      "outputs": [
        {
          "output_type": "stream",
          "name": "stdout",
          "text": [
            "Epoch 1:Validation accuracy increased (0.000000 --> 81.800000).  Saving model ...\n",
            "\tTrain_loss : 0.6310 Val_loss : 0.4266\n",
            "\tTrain_acc : 75.230% Val_acc : 81.800%\n",
            "Epoch 2:Validation accuracy increased (81.800000 --> 82.750000).  Saving model ...\n",
            "\tTrain_loss : 0.5038 Val_loss : 0.4070\n",
            "\tTrain_acc : 80.343% Val_acc : 82.750%\n",
            "Epoch 3:Validation accuracy increased (82.750000 --> 83.133333).  Saving model ...\n",
            "\tTrain_loss : 0.4204 Val_loss : 0.4075\n",
            "\tTrain_acc : 83.905% Val_acc : 83.133%\n",
            "Epoch 4:Validation accuracy increased (83.133333 --> 83.318750).  Saving model ...\n",
            "\tTrain_loss : 0.3569 Val_loss : 0.4208\n",
            "\tTrain_acc : 86.478% Val_acc : 83.319%\n",
            "Epoch 5:Validation accuracy did not increase\n",
            "\tTrain_loss : 0.3085 Val_loss : 0.4405\n",
            "\tTrain_acc : 88.384% Val_acc : 83.315%\n"
          ]
        }
      ],
      "source": [
        "total_step = len(train_loader)\n",
        "total_step_val = len(valid_loader)\n",
        "\n",
        "early_stopping_patience = 4\n",
        "early_stopping_counter = 0\n",
        "\n",
        "valid_acc_max = 0 # Initialize best accuracy top 0\n",
        "\n",
        "# lists to save the train and validation losses of every batch for each epoch\n",
        "train_loss, valid_loss  = [], []\n",
        "# lists to save the train and validation accuracy of every batch for each epoch\n",
        "train_acc, valid_acc  = [], []\n",
        "\n",
        "for e in range(epochs):\n",
        "\n",
        "    # lists to save the train and validation predictions of every batch for each epoch\n",
        "    y_train_list, y_val_list = [], []\n",
        "\n",
        "    # initalize number of total and correctly classified texts during training and validation\n",
        "    correct, correct_val = 0, 0\n",
        "    total, total_val = 0, 0\n",
        "    running_loss, running_loss_val = 0, 0\n",
        "\n",
        "    model.train() \n",
        "    for inputs, labels in train_loader:  # Training the model\n",
        "        inputs, labels = inputs.to(device), labels.to(device) # load features and targets in device\n",
        "\n",
        "        h = model.init_hidden(labels.size(0))\n",
        "\n",
        "        model.zero_grad() # reset gradients \n",
        "\n",
        "        output, h = model(inputs,h) # get output and hidden states from LSTM network\n",
        "        \n",
        "        loss = criterion(output, labels)\n",
        "        loss.backward()\n",
        "        \n",
        "        running_loss += loss.item()\n",
        "        \n",
        "        optimizer.step()\n",
        "\n",
        "        y_pred_train = torch.argmax(output, dim=1) # get tensor of predicted values on the training set\n",
        "\n",
        "        y_train_list.extend(y_pred_train.squeeze().tolist()) # transform tensor to list and the values to the list\n",
        "        \n",
        "        correct += torch.sum(y_pred_train==labels).item() # count correctly classified texts per batch\n",
        "        total += labels.size(0) # count total texts per batch\n",
        "\n",
        "    train_loss.append(running_loss / total_step)\n",
        "    train_acc.append(100 * correct / total)\n",
        "    \n",
        "    with torch.no_grad():\n",
        "        \n",
        "        model.eval()\n",
        "        \n",
        "        for inputs, labels in valid_loader:\n",
        "            inputs, labels = inputs.to(device), labels.to(device)\n",
        "\n",
        "            val_h = model.init_hidden(labels.size(0))\n",
        "\n",
        "            output, val_h = model(inputs, val_h)\n",
        "\n",
        "            val_loss = criterion(output, labels)\n",
        "            running_loss_val += val_loss.item()\n",
        "\n",
        "            y_pred_val = torch.argmax(output, dim=1)\n",
        "            y_val_list.extend(y_pred_val.squeeze().tolist())\n",
        "\n",
        "            correct_val += torch.sum(y_pred_val==labels).item()\n",
        "            total_val += labels.size(0)\n",
        "\n",
        "        valid_loss.append(running_loss_val / total_step_val)\n",
        "        valid_acc.append(100 * correct_val / total_val)\n",
        "\n",
        "    # Save model if validation accuracy increases\n",
        "    if np.mean(valid_acc) >= valid_acc_max:\n",
        "        torch.save(model.state_dict(), './state_dict.pt')\n",
        "        print(f'Epoch {e+1}:Validation accuracy increased ({valid_acc_max:.6f} --> {np.mean(valid_acc):.6f}).  Saving model ...')\n",
        "        valid_acc_max = np.mean(valid_acc)\n",
        "        early_stopping_counter=0 # reset counter if validation accuracy increases\n",
        "\n",
        "    else:\n",
        "        print(f'Epoch {e+1}:Validation accuracy did not increase')\n",
        "        early_stopping_counter+=1 # increase counter if validation accuracy does not increase\n",
        "        \n",
        "    if early_stopping_counter > early_stopping_patience:\n",
        "        print('Early stopped at epoch :', e+1)\n",
        "        break\n",
        "    \n",
        "    print(f'\\tTrain_loss : {np.mean(train_loss):.4f} Val_loss : {np.mean(valid_loss):.4f}')\n",
        "    print(f'\\tTrain_acc : {np.mean(train_acc):.3f}% Val_acc : {np.mean(valid_acc):.3f}%')"
      ]
    },
    {
      "cell_type": "code",
      "execution_count": 24,
      "metadata": {
        "colab": {
          "base_uri": "https://localhost:8080/",
          "height": 330
        },
        "id": "FJHfaPukIBAX",
        "outputId": "e5dbacf6-96f3-4b82-88f3-24724a5c2c5c"
      },
      "outputs": [
        {
          "output_type": "stream",
          "name": "stdout",
          "text": [
            "[75.23042668 85.4546396  91.02889395 94.19790804 96.01025269]\n",
            "[81.8   83.7   83.9   83.875 83.3  ]\n"
          ]
        },
        {
          "output_type": "display_data",
          "data": {
            "text/plain": [
              "<Figure size 432x288 with 1 Axes>"
            ],
            "image/png": "[encoded data removed]"
          },
          "metadata": {
            "needs_background": "light"
          }
        }
      ],
      "source": [
        "import matplotlib.pyplot as plt\n",
        "\n",
        "xpoints = np.array([1, 2, 3, 4, 5])\n",
        "ypoints_train = np.array(train_acc)\n",
        "ypoints_val = np.array(valid_acc)\n",
        "print(ypoints_train)\n",
        "print(ypoints_val)\n",
        "plt.plot(xpoints, ypoints_train, color=\"blue\", label = \"Training\")\n",
        "plt.plot(xpoints, ypoints_val, color=\"orange\", label= \"Validation\")\n",
        "plt.xlabel(\"Epochs\")\n",
        "plt.ylabel(\"Accuracy\")\n",
        "plt.title(\"Training and validation accuracy\")\n",
        "plt.legend()\n",
        "plt.show()"
      ]
    },
    {
      "cell_type": "code",
      "execution_count": 25,
      "metadata": {
        "colab": {
          "base_uri": "https://localhost:8080/"
        },
        "id": "hhBthnQtpIEj",
        "outputId": "f9c93201-1a8f-4b49-e1a3-5f221911c109"
      },
      "outputs": [
        {
          "output_type": "execute_result",
          "data": {
            "text/plain": [
              "<All keys matched successfully>"
            ]
          },
          "metadata": {},
          "execution_count": 25
        }
      ],
      "source": [
        "model.load_state_dict(torch.load('./state_dict.pt'))"
      ]
    },
    {
      "cell_type": "markdown",
      "metadata": {
        "id": "eMMeDgiJVjpo"
      },
      "source": [
        "Saving the models in google drive."
      ]
    },
    {
      "cell_type": "code",
      "execution_count": 26,
      "metadata": {
        "id": "iOoenmkoVHFE"
      },
      "outputs": [],
      "source": [
        "# model_save_name = 'LSTM-word2vec.pt'\n",
        "model_save_name_1 = 'LSTM-GloVe.pt'"
      ]
    },
    {
      "cell_type": "code",
      "execution_count": 27,
      "metadata": {
        "id": "btEPo8XGT2xk"
      },
      "outputs": [],
      "source": [
        "path = F\"/content/gdrive/MyDrive/Colab Notebooks/{model_save_name_1}\" "
      ]
    },
    {
      "cell_type": "code",
      "execution_count": 28,
      "metadata": {
        "id": "z17VbaqDOqss"
      },
      "outputs": [],
      "source": [
        "torch.save(model.state_dict(), path)"
      ]
    },
    {
      "cell_type": "code",
      "execution_count": 29,
      "metadata": {
        "colab": {
          "base_uri": "https://localhost:8080/"
        },
        "id": "dq4yQ-CUP6w6",
        "outputId": "2fddb2ea-5d48-488c-c3cf-ce3d979e17da"
      },
      "outputs": [
        {
          "output_type": "execute_result",
          "data": {
            "text/plain": [
              "<All keys matched successfully>"
            ]
          },
          "metadata": {},
          "execution_count": 29
        }
      ],
      "source": [
        "model.load_state_dict(torch.load(path))"
      ]
    },
    {
      "cell_type": "markdown",
      "metadata": {
        "id": "6HZ7bULaWBXi"
      },
      "source": [
        "Running the models on test set."
      ]
    },
    {
      "cell_type": "code",
      "execution_count": 30,
      "metadata": {
        "id": "kyJcBKMOpLi7"
      },
      "outputs": [],
      "source": [
        "model.eval()\n",
        "y_pred_list = []\n",
        "y_test_list = []\n",
        "for inputs, labels in test_loader:\n",
        "    inputs, labels = inputs.to(device), labels.to(device)\n",
        "    test_h = model.init_hidden(labels.size(0))\n",
        "    output, val_h = model(inputs, test_h)\n",
        "    y_pred_test = torch.argmax(output, dim=1)\n",
        "    y_pred_list.extend(y_pred_test.squeeze().tolist())\n",
        "    y_test_list.extend(labels.squeeze().tolist())"
      ]
    },
    {
      "cell_type": "code",
      "execution_count": 31,
      "metadata": {
        "colab": {
          "base_uri": "https://localhost:8080/"
        },
        "id": "xwuQP865pQG4",
        "outputId": "2033d898-edbe-4b2a-9a45-1b7e1f333c86"
      },
      "outputs": [
        {
          "output_type": "stream",
          "name": "stdout",
          "text": [
            "Classification Report for Bi-LSTM :\n",
            "                      precision    recall  f1-score   support\n",
            "\n",
            "           religion       0.94      0.93      0.94       793\n",
            "                age       0.97      0.97      0.97       789\n",
            "          ethnicity       0.97      0.98      0.98       772\n",
            "             gender       0.86      0.85      0.86       758\n",
            "       not bullying       0.62      0.64      0.63       760\n",
            "other_cyberbullying       0.59      0.58      0.58       576\n",
            "\n",
            "           accuracy                           0.84      4448\n",
            "          macro avg       0.83      0.83      0.83      4448\n",
            "       weighted avg       0.84      0.84      0.84      4448\n",
            "\n"
          ]
        }
      ],
      "source": [
        "from sklearn.metrics import classification_report\n",
        "print('Classification Report for Bi-LSTM :\\n', classification_report(y_test_list, y_pred_list, target_names=sentiments))"
      ]
    }
  ],
  "metadata": {
    "accelerator": "GPU",
    "colab": {
      "collapsed_sections": [],
      "name": "LSTM-Word2Vec-GloVe.ipynb",
      "provenance": []
    },
    "kernelspec": {
      "display_name": "Python 3",
      "name": "python3"
    },
    "language_info": {
      "name": "python"
    },
    "gpuClass": "standard"
  },
  "nbformat": 4,
  "nbformat_minor": 0
}